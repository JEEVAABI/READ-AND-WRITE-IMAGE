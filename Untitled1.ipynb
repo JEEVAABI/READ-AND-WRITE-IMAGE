{
 "cells": [
  {
   "cell_type": "code",
   "execution_count": 1,
   "id": "07082d18",
   "metadata": {},
   "outputs": [
    {
     "name": "stdout",
     "output_type": "stream",
     "text": [
      "Requirement already satisfied: opencv-python in c:\\users\\jeeva\\anaconda3\\lib\\site-packages (4.8.0.76)\n",
      "Requirement already satisfied: numpy>=1.17.0 in c:\\users\\jeeva\\anaconda3\\lib\\site-packages (from opencv-python) (1.20.1)\n"
     ]
    }
   ],
   "source": [
    "!pip install opencv-python"
   ]
  },
  {
   "cell_type": "code",
   "execution_count": 22,
   "id": "8df0941a",
   "metadata": {},
   "outputs": [],
   "source": [
    "import cv2\n",
    "img = cv2.imread('spy.jpg', -1)\n",
    "resized_img = cv2.resize(img, None, fx=0.1, fy=0.1)\n"
   ]
  },
  {
   "cell_type": "code",
   "execution_count": 23,
   "id": "e012e99a",
   "metadata": {},
   "outputs": [],
   "source": [
    "copied_portion = resized_img[70:150, 60:220] "
   ]
  },
  {
   "cell_type": "code",
   "execution_count": 24,
   "id": "75b87f1d",
   "metadata": {},
   "outputs": [],
   "source": [
    "destination_area = resized_img[60:140, 25:185] "
   ]
  },
  {
   "cell_type": "code",
   "execution_count": 25,
   "id": "15a57065",
   "metadata": {},
   "outputs": [
    {
     "name": "stdout",
     "output_type": "stream",
     "text": [
      "Shapes of source and destination areas do not match!\n"
     ]
    }
   ],
   "source": [
    "if destination_area.shape == copied_portion.shape:\n",
    "    resized_img[60:140, 25:185] = copied_portion\n",
    "else:\n",
    "    print(\"Shapes of source and destination areas do not match!\")"
   ]
  },
  {
   "cell_type": "code",
   "execution_count": null,
   "id": "59d1548e",
   "metadata": {},
   "outputs": [],
   "source": [
    "cv2.imshow('212221240018_JeevaAbi', resized_img)\n",
    "cv2.waitKey(0)\n",
    "cv2.destroyAllWindows()"
   ]
  },
  {
   "cell_type": "code",
   "execution_count": null,
   "id": "dc3beed5",
   "metadata": {},
   "outputs": [],
   "source": []
  }
 ],
 "metadata": {
  "kernelspec": {
   "display_name": "Python 3",
   "language": "python",
   "name": "python3"
  },
  "language_info": {
   "codemirror_mode": {
    "name": "ipython",
    "version": 3
   },
   "file_extension": ".py",
   "mimetype": "text/x-python",
   "name": "python",
   "nbconvert_exporter": "python",
   "pygments_lexer": "ipython3",
   "version": "3.8.8"
  }
 },
 "nbformat": 4,
 "nbformat_minor": 5
}
