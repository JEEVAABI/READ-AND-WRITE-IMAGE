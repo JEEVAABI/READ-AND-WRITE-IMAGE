{
 "cells": [
  {
   "cell_type": "code",
   "execution_count": 1,
   "id": "bda9c277",
   "metadata": {},
   "outputs": [
    {
     "name": "stdout",
     "output_type": "stream",
     "text": [
      "Requirement already satisfied: opencv-python in c:\\users\\jeeva\\anaconda3\\lib\\site-packages (4.8.0.76)\n",
      "Requirement already satisfied: numpy>=1.17.0 in c:\\users\\jeeva\\anaconda3\\lib\\site-packages (from opencv-python) (1.20.1)\n"
     ]
    }
   ],
   "source": [
    "!pip install opencv-python\n"
   ]
  },
  {
   "cell_type": "code",
   "execution_count": 2,
   "id": "e242686a",
   "metadata": {},
   "outputs": [],
   "source": [
    "import cv2"
   ]
  },
  {
   "cell_type": "code",
   "execution_count": 3,
   "id": "64180e38",
   "metadata": {},
   "outputs": [],
   "source": [
    "img = cv2.imread('spy.jpg', -1)"
   ]
  },
  {
   "cell_type": "code",
   "execution_count": null,
   "id": "29220d59",
   "metadata": {},
   "outputs": [],
   "source": [
    "resized_img = cv2.resize(img1, (364, 205), interpolation=cv2.INTER_LINEAR)\n"
   ]
  },
  {
   "cell_type": "code",
   "execution_count": null,
   "id": "8249050a",
   "metadata": {},
   "outputs": [],
   "source": [
    "cv2.imshow('212221240018_JeevaAbi', resized_img)"
   ]
  },
  {
   "cell_type": "code",
   "execution_count": null,
   "id": "ed67b21a",
   "metadata": {},
   "outputs": [],
   "source": [
    "cv2.waitKey(0)\n",
    "cv2.destroyAllWindows()"
   ]
  },
  {
   "cell_type": "code",
   "execution_count": null,
   "id": "5789037e",
   "metadata": {},
   "outputs": [],
   "source": []
  },
  {
   "cell_type": "code",
   "execution_count": null,
   "id": "8ea07adf",
   "metadata": {},
   "outputs": [],
   "source": []
  }
 ],
 "metadata": {
  "kernelspec": {
   "display_name": "Python 3",
   "language": "python",
   "name": "python3"
  },
  "language_info": {
   "codemirror_mode": {
    "name": "ipython",
    "version": 3
   },
   "file_extension": ".py",
   "mimetype": "text/x-python",
   "name": "python",
   "nbconvert_exporter": "python",
   "pygments_lexer": "ipython3",
   "version": "3.8.8"
  }
 },
 "nbformat": 4,
 "nbformat_minor": 5
}
